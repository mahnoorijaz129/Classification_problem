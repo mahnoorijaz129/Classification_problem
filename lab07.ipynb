{
 "cells": [
  {
   "cell_type": "markdown",
   "metadata": {
    "id": "TpNXBgfPhIl6"
   },
   "source": [
    "# **Lab 7: Decision Trees**"
   ]
  },
  {
   "cell_type": "markdown",
   "metadata": {
    "id": "P9rpOz4_CGtv",
    "papermill": {
     "duration": 0.023267,
     "end_time": "2020-12-06T07:07:23.227544",
     "exception": false,
     "start_time": "2020-12-06T07:07:23.204277",
     "status": "completed"
    },
    "tags": []
   },
   "source": [
    "## Workings Of Decision Tree\n",
    "* At the root node decision tree selects feature to split the data in two major categories.\n",
    "* So at the end of root node we have two decision rules and two sub trees\n",
    "* Data will again be divided in two categories in each sub tree\n",
    "* This process will continue until every training example is grouped together.\n",
    "* So at the end of decision tree we end up with leaf node. Which represent the class or a continuous value that we are trying predict\n",
    "\n",
    "## Criteria To Split The Data\n",
    "The objective of decision tree is to split the data in such a way that at the end we have different groups of data which has more similarity and less randomness/impurity. In order to achieve this, every split in decision tree must reduce the randomness.\n",
    "Decision tree uses 'entropy' or 'gini' selection criteria to split the data.\n",
    "Note: We are going to use sklearn library to test classification. 'entropy' or 'gini' are selection criteria for classifier.\n",
    "### Entropy\n",
    "In order to find the best feature which will reduce the randomness after a split, we can compare the randomness before and after the split for every feature. In the end we choose the feature which will provide the highest reduction in randomness. Formally randomness in data is known as 'Entropy' and difference between the 'Entropy' before and after split is known as 'Information Gain'. Since in case of decision tree we may have multiple branches, information gain formula can be written as,\n",
    "\n",
    "```\n",
    "    Information Gain= Entropy(Parent Decision Node)–(Average Entropy(Child Nodes))\n",
    "```\n",
    "\n",
    "'i' in below Entropy formula represent the target classes \n",
    "\n",
    "   ![entropy_formula](https://raw.githubusercontent.com/satishgunjal/images/master/entropy_formula.png)\n",
    "\n",
    "So in case of 'Entropy', decision tree will split the data using the feature that provides the highest information gain.\n",
    "\n",
    "### Gini\n",
    "In case of gini impurity, we pick a random data point in our dataset. Then randomly classify it according to the class distribution in the dataset. So it becomes very important to know the accuracy of this random classification. Gini impurity gives us the probability of incorrect classification. We’ll determine the quality of the split by weighting the impurity of each branch by how many elements it has. Resulting value is called as 'Gini Gain' or 'Gini Index'. This is what’s used to pick the best split in a decision tree. Higher the Gini Gain, better the split\n",
    "\n",
    "'i' in below Gini formula represent the target classes \n",
    "\n",
    "   ![gini_formula](https://raw.githubusercontent.com/satishgunjal/images/master/gini_formula.png)\n",
    "\n",
    "So in case of 'gini', decision tree will split the data using the feature that provides the highest gini gain.\n",
    "\n",
    "### So Which Should We Use?\n",
    "Gini impurity is computationally faster as it doesn’t require calculating logarithmic functions, though in reality neither metric results in a more accurate tree than the other. Here we will use entropy in this lab. "
   ]
  },
  {
   "cell_type": "markdown",
   "metadata": {
    "id": "RVj7eNjTCGtx",
    "papermill": {
     "duration": 0.024781,
     "end_time": "2020-12-06T07:07:23.276362",
     "exception": false,
     "start_time": "2020-12-06T07:07:23.251581",
     "status": "completed"
    },
    "tags": []
   },
   "source": [
    "# Advantages Of Decision Tree\n",
    "* Simple to understand and to interpret. Trees can be visualized.\n",
    "* Requires little data preparation. Other techniques often require data normalization, dummy variables need to be created and blank values to be removed. Note however that this module does not support missing values.\n",
    "* Able to handle both numerical and categorical data.\n",
    "* Able to handle multi-output problems.\n",
    "* Uses a white box model. Results are easy to interpret.\n",
    "* Possible to validate a model using statistical tests. That makes it possible to account for the reliability of the model."
   ]
  },
  {
   "cell_type": "markdown",
   "metadata": {
    "id": "YtOG9hkxCGtx",
    "papermill": {
     "duration": 0.023346,
     "end_time": "2020-12-06T07:07:23.323807",
     "exception": false,
     "start_time": "2020-12-06T07:07:23.300461",
     "status": "completed"
    },
    "tags": []
   },
   "source": [
    "# Disadvantages Of Decision Tree\n",
    "* Decision-tree learners can create over-complex trees that do not generalize the data well. This is called overfitting. Mechanisms such as pruning, setting the minimum number of samples required at a leaf node or setting the maximum depth of the tree are necessary to avoid this problem.\n",
    "* Decision trees can be unstable because small variations in the data might result in a completely different tree being generated. This problem is mitigated by using decision trees within an ensemble.\n",
    "* Decision tree learners create biased trees if some classes dominate. It is therefore recommended to balance the dataset prior to fitting with the decision tree."
   ]
  },
  {
   "cell_type": "markdown",
   "metadata": {
    "id": "y2uVtl09CGty",
    "papermill": {
     "duration": 0.023346,
     "end_time": "2020-12-06T07:07:23.370815",
     "exception": false,
     "start_time": "2020-12-06T07:07:23.347469",
     "status": "completed"
    },
    "tags": []
   },
   "source": [
    "# Classification Problem Example\n",
    "For classification exercise we are going to use sklearns iris plant dataset.\n",
    "Objective is to classify iris flowers among three species (setosa, versicolor or virginica) from measurements of length and width of sepals and petals\n",
    "\n",
    "## Understanding the IRIS dataset\n",
    "* iris.DESCR > Complete description of dataset\n",
    "* iris.data > Data to learn. Each training set is 4 digit array of features. Total 150 training sets\n",
    "* iris.feature_names > Array of all 4 feature ['sepal length (cm)','sepal width cm)','petal length (cm)','petal width (cm)']\n",
    "* iris.filename > CSV file name\n",
    "* iris.target > The classification label. For every training set there is one classification label(0,1,2). Here 0 for setosa, 1 for versicolor and 2 for virginica\n",
    "* iris.target_names > the meaning of the features. It's an array >> ['setosa', 'versicolor', 'virginica']\n",
    "\n",
    "From above details its clear that X = 'iris.data' and y= 'iris.target'\n",
    "\n",
    "![Iris_setosa](https://raw.githubusercontent.com/satishgunjal/images/master/iris_species.png)\n",
    "\n",
    "<sub><sup>Image from [Machine Learning in R for beginners](https://www.datacamp.com/community/tutorials/machine-learning-in-r)</sup></sub>"
   ]
  },
  {
   "cell_type": "markdown",
   "metadata": {
    "id": "rzxMIb-bCGtz",
    "papermill": {
     "duration": 0.024449,
     "end_time": "2020-12-06T07:07:23.419835",
     "exception": false,
     "start_time": "2020-12-06T07:07:23.395386",
     "status": "completed"
    },
    "tags": []
   },
   "source": [
    "## Import Libraries"
   ]
  },
  {
   "cell_type": "code",
   "execution_count": null,
   "metadata": {
    "execution": {
     "iopub.execute_input": "2020-12-06T07:07:23.477652Z",
     "iopub.status.busy": "2020-12-06T07:07:23.476798Z",
     "iopub.status.idle": "2020-12-06T07:07:24.878267Z",
     "shell.execute_reply": "2020-12-06T07:07:24.877658Z"
    },
    "id": "q1q8tWaYCGt0",
    "papermill": {
     "duration": 1.432026,
     "end_time": "2020-12-06T07:07:24.878386",
     "exception": false,
     "start_time": "2020-12-06T07:07:23.446360",
     "status": "completed"
    },
    "tags": []
   },
   "outputs": [
    {
     "name": "stderr",
     "output_type": "stream",
     "text": [
      "UsageError: Line magic function `%import` not found.\n"
     ]
    }
   ],
   "source": [
    "import pandas as pd\n",
    "import numpy as np\n",
    "from sklearn import datasets\n",
    "from sklearn import model_selection\n",
    "from sklearn import tree\n",
    "import matplotlib.pyplot as plt\n",
    "%matplotlib inline\n",
    "import graphviz"
   ]
  },
  {
   "cell_type": "markdown",
   "metadata": {
    "id": "2m8U_-KETZlv"
   },
   "source": [
    "### **Question: List the purpose of each library in comments in the code above**"
   ]
  },
  {
   "cell_type": "markdown",
   "metadata": {
    "id": "G8Twwg3mCGt2",
    "papermill": {
     "duration": 0.023761,
     "end_time": "2020-12-06T07:07:24.926480",
     "exception": false,
     "start_time": "2020-12-06T07:07:24.902719",
     "status": "completed"
    },
    "tags": []
   },
   "source": [
    "## Load The Data"
   ]
  },
  {
   "cell_type": "code",
   "execution_count": null,
   "metadata": {
    "id": "TwrpSNHvTDKA"
   },
   "outputs": [
    {
     "name": "stdout",
     "output_type": "stream",
     "text": [
      "Dataset structure=  ['DESCR', 'data', 'data_module', 'feature_names', 'filename', 'frame', 'target', 'target_names']\n"
     ]
    }
   ],
   "source": [
    "iris = datasets.load_iris()\n",
    "print('Dataset structure= ', dir(iris))"
   ]
  },
  {
   "cell_type": "code",
   "execution_count": null,
   "metadata": {
    "execution": {
     "iopub.execute_input": "2020-12-06T07:07:24.980629Z",
     "iopub.status.busy": "2020-12-06T07:07:24.979978Z",
     "iopub.status.idle": "2020-12-06T07:07:25.020985Z",
     "shell.execute_reply": "2020-12-06T07:07:25.021711Z"
    },
    "id": "R3Kbx99fCGt2",
    "papermill": {
     "duration": 0.071787,
     "end_time": "2020-12-06T07:07:25.021867",
     "exception": false,
     "start_time": "2020-12-06T07:07:24.950080",
     "status": "completed"
    },
    "tags": []
   },
   "outputs": [
    {
     "name": "stdout",
     "output_type": "stream",
     "text": [
      "Unique target values= [0 1 2]\n"
     ]
    },
    {
     "data": {
      "text/html": [
       "<div>\n",
       "<style scoped>\n",
       "    .dataframe tbody tr th:only-of-type {\n",
       "        vertical-align: middle;\n",
       "    }\n",
       "\n",
       "    .dataframe tbody tr th {\n",
       "        vertical-align: top;\n",
       "    }\n",
       "\n",
       "    .dataframe thead th {\n",
       "        text-align: right;\n",
       "    }\n",
       "</style>\n",
       "<table border=\"1\" class=\"dataframe\">\n",
       "  <thead>\n",
       "    <tr style=\"text-align: right;\">\n",
       "      <th></th>\n",
       "      <th>sepal length (cm)</th>\n",
       "      <th>sepal width (cm)</th>\n",
       "      <th>petal length (cm)</th>\n",
       "      <th>petal width (cm)</th>\n",
       "      <th>target</th>\n",
       "      <th>flower_species</th>\n",
       "    </tr>\n",
       "  </thead>\n",
       "  <tbody>\n",
       "    <tr>\n",
       "      <th>145</th>\n",
       "      <td>6.7</td>\n",
       "      <td>3.0</td>\n",
       "      <td>5.2</td>\n",
       "      <td>2.3</td>\n",
       "      <td>2</td>\n",
       "      <td>virginica</td>\n",
       "    </tr>\n",
       "    <tr>\n",
       "      <th>30</th>\n",
       "      <td>4.8</td>\n",
       "      <td>3.1</td>\n",
       "      <td>1.6</td>\n",
       "      <td>0.2</td>\n",
       "      <td>0</td>\n",
       "      <td>setosa</td>\n",
       "    </tr>\n",
       "    <tr>\n",
       "      <th>25</th>\n",
       "      <td>5.0</td>\n",
       "      <td>3.0</td>\n",
       "      <td>1.6</td>\n",
       "      <td>0.2</td>\n",
       "      <td>0</td>\n",
       "      <td>setosa</td>\n",
       "    </tr>\n",
       "    <tr>\n",
       "      <th>32</th>\n",
       "      <td>5.2</td>\n",
       "      <td>4.1</td>\n",
       "      <td>1.5</td>\n",
       "      <td>0.1</td>\n",
       "      <td>0</td>\n",
       "      <td>setosa</td>\n",
       "    </tr>\n",
       "    <tr>\n",
       "      <th>94</th>\n",
       "      <td>5.6</td>\n",
       "      <td>2.7</td>\n",
       "      <td>4.2</td>\n",
       "      <td>1.3</td>\n",
       "      <td>1</td>\n",
       "      <td>versicolor</td>\n",
       "    </tr>\n",
       "  </tbody>\n",
       "</table>\n",
       "</div>"
      ],
      "text/plain": [
       "     sepal length (cm)  sepal width (cm)  petal length (cm)  petal width (cm)  \\\n",
       "145                6.7               3.0                5.2               2.3   \n",
       "30                 4.8               3.1                1.6               0.2   \n",
       "25                 5.0               3.0                1.6               0.2   \n",
       "32                 5.2               4.1                1.5               0.1   \n",
       "94                 5.6               2.7                4.2               1.3   \n",
       "\n",
       "     target flower_species  \n",
       "145       2      virginica  \n",
       "30        0         setosa  \n",
       "25        0         setosa  \n",
       "32        0         setosa  \n",
       "94        1     versicolor  "
      ]
     },
     "execution_count": 7,
     "metadata": {},
     "output_type": "execute_result"
    }
   ],
   "source": [
    "df = pd.DataFrame(iris.data, columns = iris.feature_names)\n",
    "df['target'] = iris.target\n",
    "df['flower_species'] = df.target.apply(lambda x : iris.target_names[x]) # Each value from 'target' is used as index to get corresponding value from 'target_names' \n",
    "\n",
    "print('Unique target values=',df['target'].unique())\n",
    "\n",
    "df.sample(5)"
   ]
  },
  {
   "cell_type": "markdown",
   "metadata": {
    "id": "ANkYI94niR55"
   },
   "source": [
    "## **Question: What is target column and why it is created?**"
   ]
  },
  {
   "cell_type": "markdown",
   "metadata": {
    "id": "-3x7ckHjWBEZ"
   },
   "source": [
    "## **Question: List the mapping of different target labels w.r.t. the flower specie.**  "
   ]
  },
  {
   "cell_type": "code",
   "execution_count": null,
   "metadata": {
    "id": "qJ7MnBA9VRPY"
   },
   "outputs": [],
   "source": [
    "\n"
   ]
  },
  {
   "cell_type": "markdown",
   "metadata": {
    "id": "170BX1JUVfKJ"
   },
   "source": [
    "## **Question: From the above result, write the number of instances in the dataset**"
   ]
  },
  {
   "cell_type": "code",
   "execution_count": null,
   "metadata": {
    "execution": {
     "iopub.execute_input": "2020-12-06T07:07:25.189798Z",
     "iopub.status.busy": "2020-12-06T07:07:25.188798Z",
     "iopub.status.idle": "2020-12-06T07:07:25.193983Z",
     "shell.execute_reply": "2020-12-06T07:07:25.193291Z"
    },
    "id": "YpTOMb8gCGt4",
    "papermill": {
     "duration": 0.05694,
     "end_time": "2020-12-06T07:07:25.194097",
     "exception": false,
     "start_time": "2020-12-06T07:07:25.137157",
     "status": "completed"
    },
    "tags": []
   },
   "outputs": [],
   "source": [
    "#Print the top five samples of specie 1\n",
    "##TO DO"
   ]
  },
  {
   "cell_type": "code",
   "execution_count": null,
   "metadata": {
    "execution": {
     "iopub.execute_input": "2020-12-06T07:07:25.258895Z",
     "iopub.status.busy": "2020-12-06T07:07:25.254844Z",
     "iopub.status.idle": "2020-12-06T07:07:25.264314Z",
     "shell.execute_reply": "2020-12-06T07:07:25.264792Z"
    },
    "id": "ivC2O5hcCGt4",
    "papermill": {
     "duration": 0.04477,
     "end_time": "2020-12-06T07:07:25.264951",
     "exception": false,
     "start_time": "2020-12-06T07:07:25.220181",
     "status": "completed"
    },
    "tags": []
   },
   "outputs": [],
   "source": [
    "#Print the top five samples of specie 2\n",
    "##TO DO"
   ]
  },
  {
   "cell_type": "code",
   "execution_count": null,
   "metadata": {
    "execution": {
     "iopub.execute_input": "2020-12-06T07:07:25.329707Z",
     "iopub.status.busy": "2020-12-06T07:07:25.329113Z",
     "iopub.status.idle": "2020-12-06T07:07:25.334743Z",
     "shell.execute_reply": "2020-12-06T07:07:25.334154Z"
    },
    "id": "WzceXbKGCGt5",
    "papermill": {
     "duration": 0.043533,
     "end_time": "2020-12-06T07:07:25.334837",
     "exception": false,
     "start_time": "2020-12-06T07:07:25.291304",
     "status": "completed"
    },
    "tags": []
   },
   "outputs": [],
   "source": [
    "#Print the top five samples of specie 3\n",
    "##TO DO"
   ]
  },
  {
   "cell_type": "markdown",
   "metadata": {
    "id": "5TUaScw6SFPn"
   },
   "source": [
    "### View summary of dataset"
   ]
  },
  {
   "cell_type": "code",
   "execution_count": null,
   "metadata": {
    "id": "cN4fZqSULom3"
   },
   "outputs": [],
   "source": [
    "#Print the overall summary of the dataset using pandas info method\n",
    "##TO DO"
   ]
  },
  {
   "cell_type": "code",
   "execution_count": null,
   "metadata": {
    "id": "WKTQXmRNR50w"
   },
   "outputs": [],
   "source": [
    "##check the distribution of species in the data using panadas value_count method. \n",
    "#TO DO"
   ]
  },
  {
   "cell_type": "markdown",
   "metadata": {
    "id": "pOpgUZPVSctJ"
   },
   "source": [
    "## **Question: Whats is the class distribution of each specie of flower in the dataset. Is the data evenly distributed or not?**"
   ]
  },
  {
   "cell_type": "code",
   "execution_count": null,
   "metadata": {
    "id": "Fb-vb8sRXCdA"
   },
   "outputs": [],
   "source": [
    "#Check whether the data contains any missing vakues or not, by using the panadas dataframe isnull method. \n",
    "##To DO"
   ]
  },
  {
   "cell_type": "markdown",
   "metadata": {
    "id": "rWYQo0lDXFWG"
   },
   "source": [
    "##**Question: Do you find any misssing values in the data?** "
   ]
  },
  {
   "cell_type": "markdown",
   "metadata": {
    "id": "cW3JpuOSCGt5",
    "papermill": {
     "duration": 0.026473,
     "end_time": "2020-12-06T07:07:25.387584",
     "exception": false,
     "start_time": "2020-12-06T07:07:25.361111",
     "status": "completed"
    },
    "tags": []
   },
   "source": [
    "## Build Machine Learning Model"
   ]
  },
  {
   "cell_type": "code",
   "execution_count": null,
   "metadata": {
    "execution": {
     "iopub.execute_input": "2020-12-06T07:07:25.453708Z",
     "iopub.status.busy": "2020-12-06T07:07:25.452797Z",
     "iopub.status.idle": "2020-12-06T07:07:25.458830Z",
     "shell.execute_reply": "2020-12-06T07:07:25.458183Z"
    },
    "id": "ApXqO9hxCGt6",
    "papermill": {
     "duration": 0.044347,
     "end_time": "2020-12-06T07:07:25.458964",
     "exception": false,
     "start_time": "2020-12-06T07:07:25.414617",
     "status": "completed"
    },
    "tags": []
   },
   "outputs": [],
   "source": [
    "#Lets create feature matrix X  and y labels\n",
    "X = df[['sepal length (cm)', 'sepal width (cm)', 'petal length (cm)', 'petal width (cm)']]\n",
    "y = df[['target']]\n",
    "\n",
    "print('X shape=', X.shape)\n",
    "print('y shape=', y.shape)"
   ]
  },
  {
   "cell_type": "markdown",
   "metadata": {
    "id": "7dZ5uLRuCGt6",
    "papermill": {
     "duration": 0.027516,
     "end_time": "2020-12-06T07:07:25.514026",
     "exception": false,
     "start_time": "2020-12-06T07:07:25.486510",
     "status": "completed"
    },
    "tags": []
   },
   "source": [
    "### Create Test And Train Dataset\n",
    "* We will split the dataset, so that we can use one set of data for training the model and one set of data for testing the model\n",
    "* We will keep 20% of data for testing and 80% of data for training the model"
   ]
  },
  {
   "cell_type": "code",
   "execution_count": null,
   "metadata": {
    "colab": {
     "base_uri": "https://localhost:8080/"
    },
    "execution": {
     "iopub.execute_input": "2020-12-06T07:07:25.582138Z",
     "iopub.status.busy": "2020-12-06T07:07:25.581372Z",
     "iopub.status.idle": "2020-12-06T07:07:25.585476Z",
     "shell.execute_reply": "2020-12-06T07:07:25.584514Z"
    },
    "id": "VSUHqi-vCGt6",
    "outputId": "377094e1-ff3f-40ba-b372-92a831bae8d7",
    "papermill": {
     "duration": 0.043366,
     "end_time": "2020-12-06T07:07:25.585626",
     "exception": false,
     "start_time": "2020-12-06T07:07:25.542260",
     "status": "completed"
    },
    "tags": []
   },
   "outputs": [
    {
     "name": "stdout",
     "output_type": "stream",
     "text": [
      "X_train dimension=  (120, 4)\n",
      "X_test dimension=  (30, 4)\n",
      "y_train dimension=  (120, 1)\n",
      "y_train dimension=  (30, 1)\n"
     ]
    }
   ],
   "source": [
    "X_train,X_test, y_train, y_test = #TO DO\n",
    "print('X_train dimension= ', X_train.shape)\n",
    "print('X_test dimension= ', X_test.shape)\n",
    "print('y_train dimension= ', y_train.shape)\n",
    "print('y_train dimension= ', y_test.shape)"
   ]
  },
  {
   "cell_type": "markdown",
   "metadata": {
    "id": "p7WsQJZ_CGt7",
    "papermill": {
     "duration": 0.027447,
     "end_time": "2020-12-06T07:07:25.642203",
     "exception": false,
     "start_time": "2020-12-06T07:07:25.614756",
     "status": "completed"
    },
    "tags": []
   },
   "source": [
    "Now lets train the model using Decision Tree"
   ]
  },
  {
   "cell_type": "code",
   "execution_count": null,
   "metadata": {
    "execution": {
     "iopub.execute_input": "2020-12-06T07:07:25.707784Z",
     "iopub.status.busy": "2020-12-06T07:07:25.705139Z",
     "iopub.status.idle": "2020-12-06T07:07:25.716581Z",
     "shell.execute_reply": "2020-12-06T07:07:25.715730Z"
    },
    "id": "EnTnQ5IOCGt7",
    "papermill": {
     "duration": 0.046985,
     "end_time": "2020-12-06T07:07:25.716712",
     "exception": false,
     "start_time": "2020-12-06T07:07:25.669727",
     "status": "completed"
    },
    "tags": []
   },
   "outputs": [],
   "source": [
    "\"\"\"\n",
    "To obtain a deterministic behaviour during fitting always set value for 'random_state' attribute\n",
    "Also note that default value of criteria to split the data is 'gini'\n",
    "You are reuesyed to use 'entropy' criteria in the lab\n",
    "\"\"\"\n",
    "cls = tree.DecisionTreeClassifier( #TO DO)\n",
    "#Fit the model using the fit method. "
   ]
  },
  {
   "cell_type": "markdown",
   "metadata": {
    "id": "2cIHfHXKCGt7",
    "papermill": {
     "duration": 0.044318,
     "end_time": "2020-12-06T07:07:25.804417",
     "exception": false,
     "start_time": "2020-12-06T07:07:25.760099",
     "status": "completed"
    },
    "tags": []
   },
   "source": [
    "### Testing The Model\n",
    "* For testing we are going to use the test data only\n",
    "* Question: Predict the species of 10th, 20th and 29th test example from test data"
   ]
  },
  {
   "cell_type": "code",
   "execution_count": null,
   "metadata": {
    "execution": {
     "iopub.execute_input": "2020-12-06T07:07:25.902327Z",
     "iopub.status.busy": "2020-12-06T07:07:25.897386Z",
     "iopub.status.idle": "2020-12-06T07:07:25.906980Z",
     "shell.execute_reply": "2020-12-06T07:07:25.907644Z"
    },
    "id": "zkUSoE_gCGt7",
    "papermill": {
     "duration": 0.061191,
     "end_time": "2020-12-06T07:07:25.907837",
     "exception": false,
     "start_time": "2020-12-06T07:07:25.846646",
     "status": "completed"
    },
    "tags": []
   },
   "outputs": [],
   "source": [
    "#TO DO"
   ]
  },
  {
   "cell_type": "markdown",
   "metadata": {
    "id": "C07pWO6wCGt8",
    "papermill": {
     "duration": 0.028262,
     "end_time": "2020-12-06T07:07:25.965011",
     "exception": false,
     "start_time": "2020-12-06T07:07:25.936749",
     "status": "completed"
    },
    "tags": []
   },
   "source": [
    "### Model Score\n",
    "Check the model score using test data"
   ]
  },
  {
   "cell_type": "code",
   "execution_count": null,
   "metadata": {
    "execution": {
     "iopub.execute_input": "2020-12-06T07:07:26.031655Z",
     "iopub.status.busy": "2020-12-06T07:07:26.030884Z",
     "iopub.status.idle": "2020-12-06T07:07:26.035722Z",
     "shell.execute_reply": "2020-12-06T07:07:26.035089Z"
    },
    "id": "TSU5ICAXCGt8",
    "papermill": {
     "duration": 0.041647,
     "end_time": "2020-12-06T07:07:26.035829",
     "exception": false,
     "start_time": "2020-12-06T07:07:25.994182",
     "status": "completed"
    },
    "tags": []
   },
   "outputs": [],
   "source": [
    "#Check model accuracy using the score method.\n",
    "#TO DO"
   ]
  },
  {
   "cell_type": "markdown",
   "metadata": {
    "id": "GWBG2vsSCGt8",
    "papermill": {
     "duration": 0.029756,
     "end_time": "2020-12-06T07:07:26.095659",
     "exception": false,
     "start_time": "2020-12-06T07:07:26.065903",
     "status": "completed"
    },
    "tags": []
   },
   "source": [
    "## Visualize The Decision Tree\n",
    "We will use plot_tree() function from sklearn to plot the tree and then export the tree in Graphviz format using the export_graphviz exporter. Results will be saved in iris_decision_tree.pdf file"
   ]
  },
  {
   "cell_type": "code",
   "execution_count": null,
   "metadata": {
    "execution": {
     "iopub.execute_input": "2020-12-06T07:07:26.160442Z",
     "iopub.status.busy": "2020-12-06T07:07:26.159819Z",
     "iopub.status.idle": "2020-12-06T07:07:26.639819Z",
     "shell.execute_reply": "2020-12-06T07:07:26.640399Z"
    },
    "id": "m0_nLaYoCGt9",
    "papermill": {
     "duration": 0.515066,
     "end_time": "2020-12-06T07:07:26.640545",
     "exception": false,
     "start_time": "2020-12-06T07:07:26.125479",
     "status": "completed"
    },
    "tags": []
   },
   "outputs": [],
   "source": [
    "plt.figure(figsize=(12,8))\n",
    "tree.plot_tree(cls) "
   ]
  },
  {
   "cell_type": "code",
   "execution_count": null,
   "metadata": {
    "execution": {
     "iopub.execute_input": "2020-12-06T07:07:26.715076Z",
     "iopub.status.busy": "2020-12-06T07:07:26.714208Z",
     "iopub.status.idle": "2020-12-06T07:07:27.307473Z",
     "shell.execute_reply": "2020-12-06T07:07:27.306901Z"
    },
    "id": "_b0YUaI7CGt9",
    "papermill": {
     "duration": 0.634484,
     "end_time": "2020-12-06T07:07:27.307594",
     "exception": false,
     "start_time": "2020-12-06T07:07:26.673110",
     "status": "completed"
    },
    "tags": []
   },
   "outputs": [],
   "source": [
    "dot_data = tree.export_graphviz(cls, out_file=None) \n",
    "graph = graphviz.Source(dot_data) \n",
    "graph.render(\"iris_decision_tree\") "
   ]
  },
  {
   "cell_type": "code",
   "execution_count": null,
   "metadata": {
    "execution": {
     "iopub.execute_input": "2020-12-06T07:07:27.384112Z",
     "iopub.status.busy": "2020-12-06T07:07:27.381858Z",
     "iopub.status.idle": "2020-12-06T07:07:27.444898Z",
     "shell.execute_reply": "2020-12-06T07:07:27.444086Z"
    },
    "id": "PROvgLiUCGt9",
    "papermill": {
     "duration": 0.104974,
     "end_time": "2020-12-06T07:07:27.445076",
     "exception": false,
     "start_time": "2020-12-06T07:07:27.340102",
     "status": "completed"
    },
    "tags": []
   },
   "outputs": [],
   "source": [
    "dot_data = tree.export_graphviz(cls, out_file=None, \n",
    "                      feature_names=iris.feature_names,  \n",
    "                      class_names=iris.target_names,  \n",
    "                      filled=True, rounded=True,  \n",
    "                      special_characters=True)  \n",
    "graph = graphviz.Source(dot_data)  \n",
    "graph "
   ]
  }
 ],
 "metadata": {
  "colab": {
   "provenance": []
  },
  "kernelspec": {
   "display_name": "Python 3 (ipykernel)",
   "language": "python",
   "name": "python3"
  },
  "language_info": {
   "codemirror_mode": {
    "name": "ipython",
    "version": 3
   },
   "file_extension": ".py",
   "mimetype": "text/x-python",
   "name": "python",
   "nbconvert_exporter": "python",
   "pygments_lexer": "ipython3",
   "version": "3.9.12"
  },
  "papermill": {
   "duration": 11.304328,
   "end_time": "2020-12-06T07:07:29.574004",
   "environment_variables": {},
   "exception": null,
   "input_path": "__notebook__.ipynb",
   "output_path": "__notebook__.ipynb",
   "parameters": {},
   "start_time": "2020-12-06T07:07:18.269676",
   "version": "2.1.0"
  }
 },
 "nbformat": 4,
 "nbformat_minor": 1
}
